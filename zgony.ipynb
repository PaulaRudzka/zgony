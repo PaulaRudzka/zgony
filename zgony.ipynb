{
 "cells": [
  {
   "cell_type": "code",
   "execution_count": 2,
   "metadata": {},
   "outputs": [],
   "source": [
    "import pandas as pd\n",
    "import numpy as np\n",
    "from matplotlib import pyplot as plt\n",
    "zgony=pd.read_excel('zgony_org.xlsx',sheet_name='Arkusz1', header=0)"
   ]
  },
  {
   "cell_type": "code",
   "execution_count": 72,
   "metadata": {},
   "outputs": [
    {
     "name": "stdout",
     "output_type": "stream",
     "text": [
      "(519517, 24)\n",
      "(268658, 24)\n",
      "(250859, 24)\n"
     ]
    }
   ],
   "source": [
    "female=zgony[  zgony['płeć'] == 2  ]\n",
    "male=zgony[  zgony['płeć'] == 1  ]\n",
    "\n",
    "x,y=zgony.shape\n",
    "mx,my=male.shape\n",
    "fx,fy=female.shape"
   ]
  },
  {
   "cell_type": "code",
   "execution_count": 102,
   "metadata": {},
   "outputs": [
    {
     "data": {
      "image/png": "[encoded data removed]",
      "text/plain": [
       "<Figure size 720x360 with 1 Axes>"
      ]
     },
     "metadata": {
      "needs_background": "light"
     },
     "output_type": "display_data"
    }
   ],
   "source": [
    "# Make a dataset:\n",
    "height = [fx/x, mx/x]\n",
    "bars = ('kobiety', 'mężczyźni')\n",
    "y_pos = np.arange(len(height))\n",
    " \n",
    "#Figsize\n",
    "plt.figure(figsize=(10,5))\n",
    "# Create bars\n",
    "plt.bar(y_pos, height, color = 'yellow')\n",
    "  \n",
    "# Create names on the x-axis\n",
    "plt.xticks(y_pos, bars)\n",
    "plt.yticks( np.linspace(0, 1,5))\n",
    "\n",
    "plt.ylabel('udział w zgonach', fontsize=12)\n",
    "plt.title('zgony 2021', fontsize=16, color='#323232')\n",
    " \n",
    "# Show graphic\n",
    "plt.savefig('female_vs_male.png')\n",
    "plt.show();"
   ]
  }
 ],
 "metadata": {
  "kernelspec": {
   "display_name": "base",
   "language": "python",
   "name": "python3"
  },
  "language_info": {
   "codemirror_mode": {
    "name": "ipython",
    "version": 3
   },
   "file_extension": ".py",
   "mimetype": "text/x-python",
   "name": "python",
   "nbconvert_exporter": "python",
   "pygments_lexer": "ipython3",
   "version": "3.9.12"
  },
  "orig_nbformat": 4
 },
 "nbformat": 4,
 "nbformat_minor": 2
}
